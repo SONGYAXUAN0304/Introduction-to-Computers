{
  "nbformat": 4,
  "nbformat_minor": 0,
  "metadata": {
    "colab": {
      "provenance": [],
      "authorship_tag": "ABX9TyMLrKDJYaC4blFNTHyb4Ib3",
      "include_colab_link": true
    },
    "kernelspec": {
      "name": "python3",
      "display_name": "Python 3"
    },
    "language_info": {
      "name": "python"
    }
  },
  "cells": [
    {
      "cell_type": "markdown",
      "metadata": {
        "id": "view-in-github",
        "colab_type": "text"
      },
      "source": [
        "<a href=\"https://colab.research.google.com/github/SONGYAXUAN0304/Introduction-to-Computers/blob/main/0515.ipynb\" target=\"_parent\"><img src=\"https://colab.research.google.com/assets/colab-badge.svg\" alt=\"Open In Colab\"/></a>"
      ]
    },
    {
      "cell_type": "code",
      "execution_count": 6,
      "metadata": {
        "colab": {
          "base_uri": "https://localhost:8080/"
        },
        "id": "fE_haC4302dK",
        "outputId": "48ef53fc-b918-4894-9e6d-c05eb6c77219"
      },
      "outputs": [
        {
          "output_type": "stream",
          "name": "stdout",
          "text": [
            "score: 80\n",
            "Grade is: B\n"
          ]
        }
      ],
      "source": [
        "score = int(input(\"score: \"))\n",
        "if score >= 90:\n",
        "    print('Grade is: A')\n",
        "elif score >= 80:\n",
        "    print('Grade is: B')\n",
        "elif score >= 70:\n",
        "    print('Grade is: C')\n",
        "elif score >= 60:\n",
        "    print('Grade is: D')\n",
        "else:\n",
        "    print('Grade is: F')"
      ]
    },
    {
      "cell_type": "code",
      "source": [
        "T = float(input(\"體溫: \"))\n",
        "if T >= 37.5:\n",
        "    print(\"體溫過高!\")\n",
        "elif T >= 37:\n",
        "    print(\"體溫略高!\")\n",
        "elif T >= 34:\n",
        "    print(\"體溫正常!\")\n",
        "else:\n",
        "    print(\"體溫異常，請重新量測!\")"
      ],
      "metadata": {
        "colab": {
          "base_uri": "https://localhost:8080/"
        },
        "id": "wathi0Ol8H2L",
        "outputId": "c7891c7f-1948-4123-b1b7-0e46e3cdcdf8"
      },
      "execution_count": 14,
      "outputs": [
        {
          "output_type": "stream",
          "name": "stdout",
          "text": [
            "體溫: 37.4\n",
            "體溫略高!\n"
          ]
        }
      ]
    },
    {
      "cell_type": "code",
      "source": [
        "M = int(input(\"月份: \"))\n",
        "if M == 3 or M == 4 or M == 5:\n",
        "    print(M,\"月是春天!\")\n",
        "elif M == 6 or M == 7 or M == 8:\n",
        "    print(M,\"月是夏天!\")\n",
        "elif M == 9 or M == 10 or M == 11:\n",
        "    print(M,\"月是秋天!\")\n",
        "elif M == 12 or M == 1 or M == 2:\n",
        "    print(M,\"月是冬天!\")\n",
        "else:\n",
        "    print(\"月份不在範圍內!\")"
      ],
      "metadata": {
        "colab": {
          "base_uri": "https://localhost:8080/"
        },
        "id": "OZS5Lkdd8H4P",
        "outputId": "4dfa7e79-406e-4a0b-bd1d-37bb96b527e3"
      },
      "execution_count": 80,
      "outputs": [
        {
          "output_type": "stream",
          "name": "stdout",
          "text": [
            "月份: 13\n",
            "月份不在範圍內!\n"
          ]
        }
      ]
    },
    {
      "cell_type": "code",
      "source": [
        "R = int(input(\"請輸入今年收入淨額: \"))\n",
        "if R >= 2000000:\n",
        "    print(\"付稅金額:\",R*0.3)\n",
        "elif R >= 1000000:\n",
        "    print(\"付稅金額:\",R*0.21)\n",
        "elif R >= 600000:\n",
        "    print(\"付稅金額:\",R*0.13)\n",
        "elif R >= 300000:\n",
        "    print(\"付稅金額:\",R*0.06)\n",
        "else:\n",
        "    print(\"付稅金額:\",0)"
      ],
      "metadata": {
        "colab": {
          "base_uri": "https://localhost:8080/"
        },
        "id": "yuLpTAkX8H6z",
        "outputId": "2355d284-1b31-4b23-8126-55a806cecfba"
      },
      "execution_count": 103,
      "outputs": [
        {
          "output_type": "stream",
          "name": "stdout",
          "text": [
            "請輸入今年收入淨額: 299999\n",
            "付稅金額: 0\n"
          ]
        }
      ]
    },
    {
      "cell_type": "code",
      "source": [],
      "metadata": {
        "id": "LUdKVKmi8H9a"
      },
      "execution_count": null,
      "outputs": []
    },
    {
      "cell_type": "code",
      "source": [],
      "metadata": {
        "id": "ZPkZH3YU8H_2"
      },
      "execution_count": null,
      "outputs": []
    },
    {
      "cell_type": "code",
      "source": [],
      "metadata": {
        "id": "oUYMSCTI8IB7"
      },
      "execution_count": null,
      "outputs": []
    },
    {
      "cell_type": "code",
      "source": [],
      "metadata": {
        "id": "MUGVb7tQ8IFY"
      },
      "execution_count": null,
      "outputs": []
    }
  ]
}